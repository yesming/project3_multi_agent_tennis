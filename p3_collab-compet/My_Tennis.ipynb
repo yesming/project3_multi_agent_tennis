{
 "cells": [
  {
   "attachments": {},
   "cell_type": "markdown",
   "metadata": {},
   "source": [
    "# My Project\n",
    "For this project, I will work with the Tennis environment.\n"
   ]
  },
  {
   "attachments": {},
   "cell_type": "markdown",
   "metadata": {},
   "source": [
    "## Start with the library setup"
   ]
  },
  {
   "cell_type": "code",
   "execution_count": 1,
   "metadata": {},
   "outputs": [],
   "source": [
    "from unityagents import UnityEnvironment\n",
    "import numpy as np\n",
    "import torch\n",
    "from collections import deque\n",
    "\n",
    "from agent import Agent\n",
    "#visualizer\n",
    "import matplotlib.pyplot as plt"
   ]
  },
  {
   "cell_type": "markdown",
   "metadata": {},
   "source": []
  },
  {
   "cell_type": "code",
   "execution_count": 2,
   "metadata": {},
   "outputs": [
    {
     "name": "stderr",
     "output_type": "stream",
     "text": [
      "INFO:unityagents:\n",
      "'Academy' started successfully!\n",
      "Unity Academy name: Academy\n",
      "        Number of Brains: 1\n",
      "        Number of External Brains : 1\n",
      "        Lesson number : 0\n",
      "        Reset Parameters :\n",
      "\t\t\n",
      "Unity brain name: TennisBrain\n",
      "        Number of Visual Observations (per agent): 0\n",
      "        Vector Observation space type: continuous\n",
      "        Vector Observation space size (per agent): 8\n",
      "        Number of stacked Vector Observation: 3\n",
      "        Vector Action space type: continuous\n",
      "        Vector Action space size (per agent): 2\n",
      "        Vector Action descriptions: , \n"
     ]
    }
   ],
   "source": [
    "env = UnityEnvironment(file_name=\"../Tennis_Linux/Tennis.x86_64\")"
   ]
  },
  {
   "cell_type": "code",
   "execution_count": 3,
   "metadata": {},
   "outputs": [],
   "source": [
    "# get the default brain\n",
    "brain_name = env.brain_names[0]\n",
    "brain = env.brains[brain_name]"
   ]
  },
  {
   "cell_type": "markdown",
   "metadata": {},
   "source": []
  },
  {
   "cell_type": "code",
   "execution_count": 4,
   "metadata": {},
   "outputs": [
    {
     "name": "stdout",
     "output_type": "stream",
     "text": [
      "Number of agents: 2\n",
      "Size of each action: 2\n",
      "There are 2 agents. Each observes a state with length: 24\n",
      "The state for the first agent looks like: [ 0.          0.          0.          0.          0.          0.\n",
      "  0.          0.          0.          0.          0.          0.\n",
      "  0.          0.          0.          0.         -6.65278625 -1.5\n",
      " -0.          0.          6.83172083  6.         -0.          0.        ]\n"
     ]
    }
   ],
   "source": [
    "# reset the environment\n",
    "env_info = env.reset(train_mode=True)[brain_name]\n",
    "\n",
    "# number of agents \n",
    "num_agents = len(env_info.agents)\n",
    "print('Number of agents:', num_agents)\n",
    "\n",
    "# size of each action\n",
    "action_size = brain.vector_action_space_size\n",
    "print('Size of each action:', action_size)\n",
    "\n",
    "# examine the state space \n",
    "states = env_info.vector_observations\n",
    "state_size = states.shape[1]\n",
    "print('There are {} agents. Each observes a state with length: {}'.format(states.shape[0], state_size))\n",
    "print('The state for the first agent looks like:', states[0])\n",
    "\n",
    "# number of episodes\n",
    "n_episodes = 10000\n",
    "\n",
    "# random seed\n",
    "SEED = 0"
   ]
  },
  {
   "cell_type": "markdown",
   "metadata": {},
   "source": []
  },
  {
   "cell_type": "code",
   "execution_count": 5,
   "metadata": {},
   "outputs": [],
   "source": [
    "agent = Agent(state_size=state_size,action_size=action_size, random_seed = SEED, n_agent=num_agents)"
   ]
  },
  {
   "cell_type": "code",
   "execution_count": 6,
   "metadata": {},
   "outputs": [],
   "source": [
    "def ddpg(n_episode=10000):\n",
    "    print('total episode : {}'.format(n_episode) , end=\"\\n\")\n",
    "    scores_window = deque(maxlen=50)\n",
    "    scores_window_avg = []\n",
    "    score = []\n",
    "    scores = []\n",
    "    reference_score = 0.5\n",
    "    # stable reaching to target score\n",
    "    end_condi = 0\n",
    "    \n",
    "    for i_episode in range(1, n_episode+1):\n",
    "        env_info = env.reset(train_mode=True)[brain_name]\n",
    "        states = env_info.vector_observations\n",
    "        score = np.zeros(num_agents)\n",
    "        agent.reset()\n",
    "        \n",
    "        while(True):\n",
    "            # Take random action \n",
    "            actions = agent.act(states)\n",
    "            # Do env action\n",
    "            env_info = env.step(actions)[brain_name]\n",
    "            # Observe states\n",
    "            next_states = env_info.vector_observations\n",
    "            # Obtain reward\n",
    "            reward = env_info.rewards\n",
    "            # Get done flag\n",
    "            dones = env_info.local_done\n",
    "            # Do agent stop\n",
    "            agent.step(states,actions,reward,next_states, dones)\n",
    "            # update current state\n",
    "            states = next_states\n",
    "            # add reward on score\n",
    "            # score += np.array(reward)\n",
    "            score += np.max(reward)\n",
    "            \n",
    "            # Done if get done flag\n",
    "            if np.any(dones):\n",
    "                break\n",
    "        scores.append(np.mean(score))\n",
    "\n",
    "        # average filter for 50 ep\n",
    "        scores_window.append(np.max(score))\n",
    "        scores.append(np.max(score))\n",
    "        scores_window_avg.append(np.mean(scores_window))\n",
    "        \n",
    "        # print scores every 100*N th episode\n",
    "        if i_episode % 50 == 0:\n",
    "            print('\\rEpisode: \\t{} \\tScore: \\t{:.2f} \\tAverage Score: \\t{:.2f}'.format(i_episode, np.mean(score), scores_window[-1]), end=\"\")\n",
    "            if scores_window_avg[-1] > 0.5:\n",
    "                end_condi += 1\n",
    "        # if the agent is able to receive an average reward(over \"100 consevcutive episodes\") of at least +0.5.\n",
    "        if scores_window[-1] > 0.5:\n",
    "            torch.save(agent.actor_local.state_dict(), 'checkpoint_action.pth')\n",
    "            torch.save(agent.critic_local.state_dict(), 'checkpoint_critic.pth')\n",
    "            print(\"score is over 0.5 (sucess standard)\")\n",
    "        if end_condi == 5 and i_episode > 500:\n",
    "            # end when the agent reaches to target score  \n",
    "            return scores, scores_window_avg    \n",
    "    return scores, scores_window_avg\n",
    "                    "
   ]
  },
  {
   "attachments": {},
   "cell_type": "markdown",
   "metadata": {},
   "source": []
  },
  {
   "cell_type": "code",
   "execution_count": 7,
   "metadata": {},
   "outputs": [
    {
     "name": "stdout",
     "output_type": "stream",
     "text": [
      "total episode : 10000\n"
     ]
    },
    {
     "name": "stderr",
     "output_type": "stream",
     "text": [
      "/home/astra/anaconda3/envs/drlnd/lib/python3.6/site-packages/torch/nn/functional.py:1340: UserWarning: nn.functional.tanh is deprecated. Use torch.tanh instead.\n",
      "  warnings.warn(\"nn.functional.tanh is deprecated. Use torch.tanh instead.\")\n"
     ]
    },
    {
     "name": "stdout",
     "output_type": "stream",
     "text": [
      "Episode: \t950 \tScore: \t0.00 \tAverage Score: \t0.00score is over 0.5 (sucess standard)\n",
      "score is over 0.5 (sucess standard)\n",
      "score is over 0.5 (sucess standard)\n",
      "score is over 0.5 (sucess standard)\n",
      "score is over 0.5 (sucess standard)\n",
      "score is over 0.5 (sucess standard)\n",
      "score is over 0.5 (sucess standard)\n",
      "Episode: \t1000 \tScore: \t0.10 \tAverage Score: \t0.10score is over 0.5 (sucess standard)\n",
      "score is over 0.5 (sucess standard)\n",
      "score is over 0.5 (sucess standard)\n",
      "score is over 0.5 (sucess standard)\n",
      "score is over 0.5 (sucess standard)\n",
      "score is over 0.5 (sucess standard)\n",
      "score is over 0.5 (sucess standard)\n",
      "score is over 0.5 (sucess standard)\n",
      "score is over 0.5 (sucess standard)\n",
      "score is over 0.5 (sucess standard)\n",
      "score is over 0.5 (sucess standard)\n",
      "score is over 0.5 (sucess standard)\n",
      "score is over 0.5 (sucess standard)\n",
      "score is over 0.5 (sucess standard)\n",
      "score is over 0.5 (sucess standard)\n",
      "score is over 0.5 (sucess standard)\n",
      "score is over 0.5 (sucess standard)\n",
      "score is over 0.5 (sucess standard)\n",
      "score is over 0.5 (sucess standard)\n",
      "score is over 0.5 (sucess standard)\n",
      "score is over 0.5 (sucess standard)\n",
      "score is over 0.5 (sucess standard)\n",
      "score is over 0.5 (sucess standard)\n",
      "Episode: \t1050 \tScore: \t0.30 \tAverage Score: \t0.30score is over 0.5 (sucess standard)\n",
      "score is over 0.5 (sucess standard)\n",
      "score is over 0.5 (sucess standard)\n",
      "score is over 0.5 (sucess standard)\n",
      "score is over 0.5 (sucess standard)\n",
      "score is over 0.5 (sucess standard)\n",
      "score is over 0.5 (sucess standard)\n",
      "score is over 0.5 (sucess standard)\n",
      "score is over 0.5 (sucess standard)\n",
      "score is over 0.5 (sucess standard)\n",
      "score is over 0.5 (sucess standard)\n",
      "score is over 0.5 (sucess standard)\n",
      "score is over 0.5 (sucess standard)\n",
      "score is over 0.5 (sucess standard)\n",
      "score is over 0.5 (sucess standard)\n",
      "score is over 0.5 (sucess standard)\n",
      "score is over 0.5 (sucess standard)\n",
      "score is over 0.5 (sucess standard)\n",
      "score is over 0.5 (sucess standard)\n",
      "score is over 0.5 (sucess standard)\n",
      "score is over 0.5 (sucess standard)\n",
      "score is over 0.5 (sucess standard)\n",
      "score is over 0.5 (sucess standard)\n",
      "Episode: \t1100 \tScore: \t2.90 \tAverage Score: \t2.90score is over 0.5 (sucess standard)\n",
      "score is over 0.5 (sucess standard)\n",
      "score is over 0.5 (sucess standard)\n",
      "score is over 0.5 (sucess standard)\n",
      "score is over 0.5 (sucess standard)\n",
      "score is over 0.5 (sucess standard)\n",
      "score is over 0.5 (sucess standard)\n",
      "score is over 0.5 (sucess standard)\n",
      "score is over 0.5 (sucess standard)\n",
      "score is over 0.5 (sucess standard)\n",
      "score is over 0.5 (sucess standard)\n",
      "score is over 0.5 (sucess standard)\n",
      "score is over 0.5 (sucess standard)\n",
      "score is over 0.5 (sucess standard)\n",
      "score is over 0.5 (sucess standard)\n",
      "score is over 0.5 (sucess standard)\n",
      "score is over 0.5 (sucess standard)\n",
      "score is over 0.5 (sucess standard)\n",
      "score is over 0.5 (sucess standard)\n",
      "score is over 0.5 (sucess standard)\n",
      "score is over 0.5 (sucess standard)\n",
      "score is over 0.5 (sucess standard)\n",
      "score is over 0.5 (sucess standard)\n",
      "score is over 0.5 (sucess standard)\n",
      "Episode: \t1150 \tScore: \t1.70 \tAverage Score: \t1.70score is over 0.5 (sucess standard)\n",
      "score is over 0.5 (sucess standard)\n",
      "score is over 0.5 (sucess standard)\n",
      "score is over 0.5 (sucess standard)\n",
      "score is over 0.5 (sucess standard)\n",
      "score is over 0.5 (sucess standard)\n",
      "score is over 0.5 (sucess standard)\n",
      "score is over 0.5 (sucess standard)\n",
      "score is over 0.5 (sucess standard)\n",
      "score is over 0.5 (sucess standard)\n",
      "score is over 0.5 (sucess standard)\n",
      "score is over 0.5 (sucess standard)\n",
      "score is over 0.5 (sucess standard)\n",
      "score is over 0.5 (sucess standard)\n",
      "score is over 0.5 (sucess standard)\n",
      "score is over 0.5 (sucess standard)\n",
      "score is over 0.5 (sucess standard)\n",
      "score is over 0.5 (sucess standard)\n",
      "score is over 0.5 (sucess standard)\n",
      "score is over 0.5 (sucess standard)\n",
      "score is over 0.5 (sucess standard)\n",
      "score is over 0.5 (sucess standard)\n",
      "score is over 0.5 (sucess standard)\n",
      "score is over 0.5 (sucess standard)\n",
      "score is over 0.5 (sucess standard)\n",
      "score is over 0.5 (sucess standard)\n",
      "Episode: \t1200 \tScore: \t0.80 \tAverage Score: \t0.80score is over 0.5 (sucess standard)\n",
      "score is over 0.5 (sucess standard)\n",
      "score is over 0.5 (sucess standard)\n",
      "score is over 0.5 (sucess standard)\n",
      "score is over 0.5 (sucess standard)\n",
      "score is over 0.5 (sucess standard)\n",
      "score is over 0.5 (sucess standard)\n",
      "score is over 0.5 (sucess standard)\n",
      "score is over 0.5 (sucess standard)\n",
      "score is over 0.5 (sucess standard)\n",
      "score is over 0.5 (sucess standard)\n",
      "score is over 0.5 (sucess standard)\n",
      "score is over 0.5 (sucess standard)\n",
      "score is over 0.5 (sucess standard)\n",
      "score is over 0.5 (sucess standard)\n",
      "score is over 0.5 (sucess standard)\n",
      "score is over 0.5 (sucess standard)\n",
      "score is over 0.5 (sucess standard)\n",
      "score is over 0.5 (sucess standard)\n",
      "score is over 0.5 (sucess standard)\n",
      "score is over 0.5 (sucess standard)\n",
      "score is over 0.5 (sucess standard)\n",
      "score is over 0.5 (sucess standard)\n",
      "score is over 0.5 (sucess standard)\n",
      "score is over 0.5 (sucess standard)\n",
      "score is over 0.5 (sucess standard)\n",
      "score is over 0.5 (sucess standard)\n",
      "score is over 0.5 (sucess standard)\n",
      "score is over 0.5 (sucess standard)\n",
      "score is over 0.5 (sucess standard)\n",
      "score is over 0.5 (sucess standard)\n",
      "Episode: \t1250 \tScore: \t3.30 \tAverage Score: \t3.30score is over 0.5 (sucess standard)\n"
     ]
    }
   ],
   "source": [
    "scores_window, scores_window_avg = ddpg(n_episode=n_episodes)"
   ]
  },
  {
   "cell_type": "markdown",
   "metadata": {},
   "source": []
  },
  {
   "cell_type": "code",
   "execution_count": 8,
   "metadata": {},
   "outputs": [],
   "source": [
    "env.close()"
   ]
  },
  {
   "cell_type": "code",
   "execution_count": 34,
   "metadata": {},
   "outputs": [
    {
     "name": "stdout",
     "output_type": "stream",
     "text": [
      "0.0\n",
      "0.0\n"
     ]
    }
   ],
   "source": [
    "temp = np.zeros(1250)\n",
    "cnt = 0\n",
    "print(temp[0])\n",
    "print(scores_window[0])\n",
    "for i in range(1250):\n",
    "    temp[i] = scores_window[i*2]\n",
    "    \n",
    "scores_window = temp"
   ]
  },
  {
   "cell_type": "code",
   "execution_count": 35,
   "metadata": {},
   "outputs": [
    {
     "data": {
      "image/png": "[encoded data removed]",
      "text/plain": [
       "<Figure size 432x288 with 1 Axes>"
      ]
     },
     "metadata": {
      "needs_background": "light"
     },
     "output_type": "display_data"
    }
   ],
   "source": [
    "# plot the scores\n",
    "fig = plt.figure()\n",
    "ax = fig.add_subplot(111)\n",
    "plt.title(\"Result of Project 2 Continuous Control (robot arm)\")\n",
    "plt.plot(np.arange(len(temp)), temp, label = \"scores\")\n",
    "plt.plot(np.arange(len(scores_window_avg)), scores_window_avg, label = \"average of scores\")\n",
    "plt.ylabel('Score')\n",
    "plt.xlabel('Episode #')\n",
    "plt.show()"
   ]
  },
  {
   "cell_type": "code",
   "execution_count": 31,
   "metadata": {},
   "outputs": [
    {
     "data": {
      "image/png": "[encoded data removed]",
      "text/plain": [
       "<Figure size 432x288 with 1 Axes>"
      ]
     },
     "metadata": {
      "needs_background": "light"
     },
     "output_type": "display_data"
    }
   ],
   "source": [
    "# plot the scores\n",
    "fig = plt.figure()\n",
    "ax = fig.add_subplot(111)\n",
    "plt.title(\"Result of Project 2 Continuous Control (robot arm)\")\n",
    "plt.plot(np.arange(len(scores_window_avg)), scores_window_avg, label = \"average of scores\")\n",
    "plt.ylabel('Score')\n",
    "plt.xlabel('Episode #')\n",
    "plt.show()"
   ]
  },
  {
   "cell_type": "code",
   "execution_count": null,
   "metadata": {},
   "outputs": [],
   "source": []
  }
 ],
 "metadata": {
  "kernelspec": {
   "display_name": "drlnd",
   "language": "python",
   "name": "python3"
  },
  "language_info": {
   "codemirror_mode": {
    "name": "ipython",
    "version": 3
   },
   "file_extension": ".py",
   "mimetype": "text/x-python",
   "name": "python",
   "nbconvert_exporter": "python",
   "pygments_lexer": "ipython3",
   "version": "3.6.13"
  },
  "vscode": {
   "interpreter": {
    "hash": "4a192d9f768e27fc5c05f1c7c5170e05b49612a5ea4a760ef18fe78a05685df7"
   }
  }
 },
 "nbformat": 4,
 "nbformat_minor": 2
}
